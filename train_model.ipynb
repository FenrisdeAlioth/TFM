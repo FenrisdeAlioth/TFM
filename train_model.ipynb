{
 "cells": [
  {
   "cell_type": "code",
   "execution_count": 1,
   "id": "491c9da4",
   "metadata": {},
   "outputs": [],
   "source": [
    "import pandas as pd\n",
    "import numpy as np\n",
    "import tensorflow as tf\n",
    "from sklearn.model_selection import train_test_split\n",
    "from sklearn.preprocessing import LabelEncoder\n",
    "from sklearn.metrics import confusion_matrix,classification_report\n",
    "import matplotlib.pyplot as plt\n",
    "from tensorflow.keras.callbacks import EarlyStopping\n",
    "import seaborn as sns\n",
    "from tensorflow.keras.models import Model\n",
    "from tensorflow.keras.layers import Input, Flatten, Dense, Dropout, Embedding, Concatenate\n",
    "import pickle"
   ]
  },
  {
   "cell_type": "markdown",
   "id": "9c2fe33e",
   "metadata": {},
   "source": [
    "Cargamos los datos con los que vamos a entrenar el modelo y comprobamos la distribución de las categorias a entrenar"
   ]
  },
  {
   "cell_type": "code",
   "execution_count": 2,
   "id": "2edc6553",
   "metadata": {},
   "outputs": [],
   "source": [
    "df = pd.read_csv('df_filtrado_22.csv', sep='\\t')"
   ]
  },
  {
   "cell_type": "code",
   "execution_count": 3,
   "id": "44374b8f",
   "metadata": {},
   "outputs": [
    {
     "data": {
      "text/plain": [
       "pathogenic           300000\n",
       "benign               300000\n",
       "likely_benign        300000\n",
       "likely_pathogenic    300000\n",
       "Name: CLIN_SIG, dtype: int64"
      ]
     },
     "execution_count": 3,
     "metadata": {},
     "output_type": "execute_result"
    }
   ],
   "source": [
    "df['CLIN_SIG'].value_counts()"
   ]
  },
  {
   "cell_type": "code",
   "execution_count": 4,
   "id": "45557013",
   "metadata": {},
   "outputs": [
    {
     "data": {
      "text/html": [
       "<div>\n",
       "<style scoped>\n",
       "    .dataframe tbody tr th:only-of-type {\n",
       "        vertical-align: middle;\n",
       "    }\n",
       "\n",
       "    .dataframe tbody tr th {\n",
       "        vertical-align: top;\n",
       "    }\n",
       "\n",
       "    .dataframe thead th {\n",
       "        text-align: right;\n",
       "    }\n",
       "</style>\n",
       "<table border=\"1\" class=\"dataframe\">\n",
       "  <thead>\n",
       "    <tr style=\"text-align: right;\">\n",
       "      <th></th>\n",
       "      <th>Allele</th>\n",
       "      <th>Consequence</th>\n",
       "      <th>Amino_acids</th>\n",
       "      <th>Codons</th>\n",
       "      <th>IMPACT</th>\n",
       "      <th>FLAGS</th>\n",
       "      <th>BIOTYPE</th>\n",
       "      <th>USED_REF</th>\n",
       "      <th>gnomADg_AF</th>\n",
       "      <th>gnomADg_AFR_AF</th>\n",
       "      <th>...</th>\n",
       "      <th>gnomADg_ASJ_AF</th>\n",
       "      <th>gnomADg_EAS_AF</th>\n",
       "      <th>gnomADg_FIN_AF</th>\n",
       "      <th>gnomADg_MID_AF</th>\n",
       "      <th>gnomADg_NFE_AF</th>\n",
       "      <th>gnomADg_OTH_AF</th>\n",
       "      <th>gnomADg_SAS_AF</th>\n",
       "      <th>CLIN_SIG</th>\n",
       "      <th>SOMATIC</th>\n",
       "      <th>PHENO</th>\n",
       "    </tr>\n",
       "  </thead>\n",
       "  <tbody>\n",
       "    <tr>\n",
       "      <th>0</th>\n",
       "      <td>-</td>\n",
       "      <td>frameshift_variant</td>\n",
       "      <td>GT/X</td>\n",
       "      <td>gGCACc/gc</td>\n",
       "      <td>HIGH</td>\n",
       "      <td>-</td>\n",
       "      <td>protein_coding</td>\n",
       "      <td>GTGC</td>\n",
       "      <td>0.000216</td>\n",
       "      <td>0.000198</td>\n",
       "      <td>...</td>\n",
       "      <td>0.000220</td>\n",
       "      <td>0.000169</td>\n",
       "      <td>0.000219</td>\n",
       "      <td>0.000208</td>\n",
       "      <td>0.000227</td>\n",
       "      <td>0.000223</td>\n",
       "      <td>0.000191</td>\n",
       "      <td>pathogenic</td>\n",
       "      <td>-</td>\n",
       "      <td>1</td>\n",
       "    </tr>\n",
       "    <tr>\n",
       "      <th>1</th>\n",
       "      <td>A</td>\n",
       "      <td>intron_variant</td>\n",
       "      <td>-</td>\n",
       "      <td>-</td>\n",
       "      <td>MODIFIER</td>\n",
       "      <td>-</td>\n",
       "      <td>protein_coding</td>\n",
       "      <td>G</td>\n",
       "      <td>0.000216</td>\n",
       "      <td>0.000198</td>\n",
       "      <td>...</td>\n",
       "      <td>0.000220</td>\n",
       "      <td>0.000169</td>\n",
       "      <td>0.000219</td>\n",
       "      <td>0.000208</td>\n",
       "      <td>0.000227</td>\n",
       "      <td>0.000223</td>\n",
       "      <td>0.000191</td>\n",
       "      <td>pathogenic</td>\n",
       "      <td>0,1</td>\n",
       "      <td>1,1</td>\n",
       "    </tr>\n",
       "    <tr>\n",
       "      <th>2</th>\n",
       "      <td>A</td>\n",
       "      <td>intron_variant</td>\n",
       "      <td>-</td>\n",
       "      <td>-</td>\n",
       "      <td>MODIFIER</td>\n",
       "      <td>-</td>\n",
       "      <td>protein_coding</td>\n",
       "      <td>C</td>\n",
       "      <td>0.076960</td>\n",
       "      <td>0.080700</td>\n",
       "      <td>...</td>\n",
       "      <td>0.026820</td>\n",
       "      <td>0.000578</td>\n",
       "      <td>0.091320</td>\n",
       "      <td>0.050630</td>\n",
       "      <td>0.092740</td>\n",
       "      <td>0.071290</td>\n",
       "      <td>0.025330</td>\n",
       "      <td>benign</td>\n",
       "      <td>-</td>\n",
       "      <td>1</td>\n",
       "    </tr>\n",
       "    <tr>\n",
       "      <th>3</th>\n",
       "      <td>T</td>\n",
       "      <td>3_prime_UTR_variant</td>\n",
       "      <td>-</td>\n",
       "      <td>-</td>\n",
       "      <td>MODIFIER</td>\n",
       "      <td>-</td>\n",
       "      <td>protein_coding</td>\n",
       "      <td>C</td>\n",
       "      <td>0.785400</td>\n",
       "      <td>0.944400</td>\n",
       "      <td>...</td>\n",
       "      <td>0.741100</td>\n",
       "      <td>0.930700</td>\n",
       "      <td>0.781300</td>\n",
       "      <td>0.794300</td>\n",
       "      <td>0.684900</td>\n",
       "      <td>0.783500</td>\n",
       "      <td>0.915900</td>\n",
       "      <td>benign</td>\n",
       "      <td>-</td>\n",
       "      <td>1</td>\n",
       "    </tr>\n",
       "    <tr>\n",
       "      <th>4</th>\n",
       "      <td>T</td>\n",
       "      <td>synonymous_variant</td>\n",
       "      <td>T</td>\n",
       "      <td>acG/acT</td>\n",
       "      <td>LOW</td>\n",
       "      <td>-</td>\n",
       "      <td>protein_coding</td>\n",
       "      <td>G</td>\n",
       "      <td>0.001915</td>\n",
       "      <td>0.003308</td>\n",
       "      <td>...</td>\n",
       "      <td>0.001389</td>\n",
       "      <td>0.001369</td>\n",
       "      <td>0.001326</td>\n",
       "      <td>0.001531</td>\n",
       "      <td>0.001365</td>\n",
       "      <td>0.001770</td>\n",
       "      <td>0.001385</td>\n",
       "      <td>likely_benign</td>\n",
       "      <td>-</td>\n",
       "      <td>1</td>\n",
       "    </tr>\n",
       "    <tr>\n",
       "      <th>...</th>\n",
       "      <td>...</td>\n",
       "      <td>...</td>\n",
       "      <td>...</td>\n",
       "      <td>...</td>\n",
       "      <td>...</td>\n",
       "      <td>...</td>\n",
       "      <td>...</td>\n",
       "      <td>...</td>\n",
       "      <td>...</td>\n",
       "      <td>...</td>\n",
       "      <td>...</td>\n",
       "      <td>...</td>\n",
       "      <td>...</td>\n",
       "      <td>...</td>\n",
       "      <td>...</td>\n",
       "      <td>...</td>\n",
       "      <td>...</td>\n",
       "      <td>...</td>\n",
       "      <td>...</td>\n",
       "      <td>...</td>\n",
       "      <td>...</td>\n",
       "    </tr>\n",
       "    <tr>\n",
       "      <th>1199995</th>\n",
       "      <td>G</td>\n",
       "      <td>synonymous_variant</td>\n",
       "      <td>S</td>\n",
       "      <td>tcC/tcG</td>\n",
       "      <td>LOW</td>\n",
       "      <td>-</td>\n",
       "      <td>protein_coding</td>\n",
       "      <td>C</td>\n",
       "      <td>0.000007</td>\n",
       "      <td>0.000000</td>\n",
       "      <td>...</td>\n",
       "      <td>0.000000</td>\n",
       "      <td>0.000000</td>\n",
       "      <td>0.000000</td>\n",
       "      <td>0.000000</td>\n",
       "      <td>0.000015</td>\n",
       "      <td>0.000000</td>\n",
       "      <td>0.000000</td>\n",
       "      <td>likely_benign</td>\n",
       "      <td>-</td>\n",
       "      <td>1</td>\n",
       "    </tr>\n",
       "    <tr>\n",
       "      <th>1199996</th>\n",
       "      <td>A</td>\n",
       "      <td>intron_variant</td>\n",
       "      <td>-</td>\n",
       "      <td>-</td>\n",
       "      <td>MODIFIER</td>\n",
       "      <td>-</td>\n",
       "      <td>protein_coding</td>\n",
       "      <td>C</td>\n",
       "      <td>0.004722</td>\n",
       "      <td>0.015730</td>\n",
       "      <td>...</td>\n",
       "      <td>0.000288</td>\n",
       "      <td>0.000000</td>\n",
       "      <td>0.000000</td>\n",
       "      <td>0.000000</td>\n",
       "      <td>0.000441</td>\n",
       "      <td>0.002390</td>\n",
       "      <td>0.000000</td>\n",
       "      <td>likely_benign</td>\n",
       "      <td>-</td>\n",
       "      <td>1</td>\n",
       "    </tr>\n",
       "    <tr>\n",
       "      <th>1199997</th>\n",
       "      <td>C</td>\n",
       "      <td>missense_variant</td>\n",
       "      <td>V/G</td>\n",
       "      <td>gTg/gGg</td>\n",
       "      <td>MODERATE</td>\n",
       "      <td>-</td>\n",
       "      <td>protein_coding</td>\n",
       "      <td>A</td>\n",
       "      <td>0.000035</td>\n",
       "      <td>0.000035</td>\n",
       "      <td>...</td>\n",
       "      <td>0.000043</td>\n",
       "      <td>0.000042</td>\n",
       "      <td>0.000023</td>\n",
       "      <td>0.000033</td>\n",
       "      <td>0.000037</td>\n",
       "      <td>0.000039</td>\n",
       "      <td>0.000038</td>\n",
       "      <td>likely_pathogenic</td>\n",
       "      <td>-</td>\n",
       "      <td>1</td>\n",
       "    </tr>\n",
       "    <tr>\n",
       "      <th>1199998</th>\n",
       "      <td>T</td>\n",
       "      <td>splice_donor_variant</td>\n",
       "      <td>-</td>\n",
       "      <td>-</td>\n",
       "      <td>HIGH</td>\n",
       "      <td>-</td>\n",
       "      <td>protein_coding</td>\n",
       "      <td>G</td>\n",
       "      <td>0.000035</td>\n",
       "      <td>0.000035</td>\n",
       "      <td>...</td>\n",
       "      <td>0.000043</td>\n",
       "      <td>0.000042</td>\n",
       "      <td>0.000023</td>\n",
       "      <td>0.000033</td>\n",
       "      <td>0.000037</td>\n",
       "      <td>0.000039</td>\n",
       "      <td>0.000038</td>\n",
       "      <td>likely_pathogenic</td>\n",
       "      <td>-</td>\n",
       "      <td>1</td>\n",
       "    </tr>\n",
       "    <tr>\n",
       "      <th>1199999</th>\n",
       "      <td>-</td>\n",
       "      <td>intron_variant</td>\n",
       "      <td>-</td>\n",
       "      <td>-</td>\n",
       "      <td>MODIFIER</td>\n",
       "      <td>-</td>\n",
       "      <td>protein_coding</td>\n",
       "      <td>C</td>\n",
       "      <td>0.000216</td>\n",
       "      <td>0.000198</td>\n",
       "      <td>...</td>\n",
       "      <td>0.000220</td>\n",
       "      <td>0.000169</td>\n",
       "      <td>0.000219</td>\n",
       "      <td>0.000208</td>\n",
       "      <td>0.000227</td>\n",
       "      <td>0.000223</td>\n",
       "      <td>0.000191</td>\n",
       "      <td>pathogenic</td>\n",
       "      <td>-</td>\n",
       "      <td>1</td>\n",
       "    </tr>\n",
       "  </tbody>\n",
       "</table>\n",
       "<p>1200000 rows × 22 columns</p>\n",
       "</div>"
      ],
      "text/plain": [
       "        Allele           Consequence Amino_acids     Codons    IMPACT FLAGS  \\\n",
       "0            -    frameshift_variant        GT/X  gGCACc/gc      HIGH     -   \n",
       "1            A        intron_variant           -          -  MODIFIER     -   \n",
       "2            A        intron_variant           -          -  MODIFIER     -   \n",
       "3            T   3_prime_UTR_variant           -          -  MODIFIER     -   \n",
       "4            T    synonymous_variant           T    acG/acT       LOW     -   \n",
       "...        ...                   ...         ...        ...       ...   ...   \n",
       "1199995      G    synonymous_variant           S    tcC/tcG       LOW     -   \n",
       "1199996      A        intron_variant           -          -  MODIFIER     -   \n",
       "1199997      C      missense_variant         V/G    gTg/gGg  MODERATE     -   \n",
       "1199998      T  splice_donor_variant           -          -      HIGH     -   \n",
       "1199999      -        intron_variant           -          -  MODIFIER     -   \n",
       "\n",
       "                BIOTYPE USED_REF  gnomADg_AF  gnomADg_AFR_AF  ...  \\\n",
       "0        protein_coding     GTGC    0.000216        0.000198  ...   \n",
       "1        protein_coding        G    0.000216        0.000198  ...   \n",
       "2        protein_coding        C    0.076960        0.080700  ...   \n",
       "3        protein_coding        C    0.785400        0.944400  ...   \n",
       "4        protein_coding        G    0.001915        0.003308  ...   \n",
       "...                 ...      ...         ...             ...  ...   \n",
       "1199995  protein_coding        C    0.000007        0.000000  ...   \n",
       "1199996  protein_coding        C    0.004722        0.015730  ...   \n",
       "1199997  protein_coding        A    0.000035        0.000035  ...   \n",
       "1199998  protein_coding        G    0.000035        0.000035  ...   \n",
       "1199999  protein_coding        C    0.000216        0.000198  ...   \n",
       "\n",
       "         gnomADg_ASJ_AF  gnomADg_EAS_AF  gnomADg_FIN_AF  gnomADg_MID_AF  \\\n",
       "0              0.000220        0.000169        0.000219        0.000208   \n",
       "1              0.000220        0.000169        0.000219        0.000208   \n",
       "2              0.026820        0.000578        0.091320        0.050630   \n",
       "3              0.741100        0.930700        0.781300        0.794300   \n",
       "4              0.001389        0.001369        0.001326        0.001531   \n",
       "...                 ...             ...             ...             ...   \n",
       "1199995        0.000000        0.000000        0.000000        0.000000   \n",
       "1199996        0.000288        0.000000        0.000000        0.000000   \n",
       "1199997        0.000043        0.000042        0.000023        0.000033   \n",
       "1199998        0.000043        0.000042        0.000023        0.000033   \n",
       "1199999        0.000220        0.000169        0.000219        0.000208   \n",
       "\n",
       "         gnomADg_NFE_AF  gnomADg_OTH_AF  gnomADg_SAS_AF           CLIN_SIG  \\\n",
       "0              0.000227        0.000223        0.000191         pathogenic   \n",
       "1              0.000227        0.000223        0.000191         pathogenic   \n",
       "2              0.092740        0.071290        0.025330             benign   \n",
       "3              0.684900        0.783500        0.915900             benign   \n",
       "4              0.001365        0.001770        0.001385      likely_benign   \n",
       "...                 ...             ...             ...                ...   \n",
       "1199995        0.000015        0.000000        0.000000      likely_benign   \n",
       "1199996        0.000441        0.002390        0.000000      likely_benign   \n",
       "1199997        0.000037        0.000039        0.000038  likely_pathogenic   \n",
       "1199998        0.000037        0.000039        0.000038  likely_pathogenic   \n",
       "1199999        0.000227        0.000223        0.000191         pathogenic   \n",
       "\n",
       "         SOMATIC PHENO  \n",
       "0              -     1  \n",
       "1            0,1   1,1  \n",
       "2              -     1  \n",
       "3              -     1  \n",
       "4              -     1  \n",
       "...          ...   ...  \n",
       "1199995        -     1  \n",
       "1199996        -     1  \n",
       "1199997        -     1  \n",
       "1199998        -     1  \n",
       "1199999        -     1  \n",
       "\n",
       "[1200000 rows x 22 columns]"
      ]
     },
     "execution_count": 4,
     "metadata": {},
     "output_type": "execute_result"
    }
   ],
   "source": [
    "df"
   ]
  },
  {
   "cell_type": "markdown",
   "id": "a5bcdcab",
   "metadata": {},
   "source": [
    "## PREPROCESAMIENTO"
   ]
  },
  {
   "cell_type": "markdown",
   "id": "cfc1aedf",
   "metadata": {},
   "source": [
    "Definimos cuales van a ser las variables categóricas y cuales las numéricas para entrenar el modelo"
   ]
  },
  {
   "cell_type": "code",
   "execution_count": 6,
   "id": "931aec52",
   "metadata": {},
   "outputs": [],
   "source": [
    "# Preprocesamiento de características categóricas\n",
    "categorical_features = ['Allele', 'Consequence', 'Amino_acids', 'Codons', 'IMPACT', 'FLAGS',\n",
    "       'BIOTYPE', 'USED_REF','SOMATIC', 'PHENO']\n",
    "# Preprocesamiento de características numéricas\n",
    "numerical_features = ['gnomADg_AF', 'gnomADg_AFR_AF', 'gnomADg_AMI_AF',\n",
    "       'gnomADg_AMR_AF', 'gnomADg_ASJ_AF', 'gnomADg_EAS_AF', 'gnomADg_FIN_AF',\n",
    "       'gnomADg_MID_AF', 'gnomADg_NFE_AF', 'gnomADg_OTH_AF', 'gnomADg_SAS_AF']"
   ]
  },
  {
   "cell_type": "markdown",
   "id": "d8234561",
   "metadata": {},
   "source": [
    "Le damos una etiqueda a cada caracteristica categórica:"
   ]
  },
  {
   "cell_type": "code",
   "execution_count": 7,
   "id": "45d3a626",
   "metadata": {},
   "outputs": [],
   "source": [
    "encoders = {}\n",
    "for column in categorical_features:\n",
    "    le = LabelEncoder()\n",
    "    df[column] = le.fit_transform(df[column])\n",
    "    encoders[column] = le\n"
   ]
  },
  {
   "cell_type": "markdown",
   "id": "6ddf3842",
   "metadata": {},
   "source": [
    "Lo mismo con la categoría a predecir"
   ]
  },
  {
   "cell_type": "code",
   "execution_count": 8,
   "id": "4b6aa849",
   "metadata": {},
   "outputs": [],
   "source": [
    "le2 = LabelEncoder()\n",
    "df['CLIN_SIG'] = le2.fit_transform(df['CLIN_SIG'])\n",
    "target_encoder_2 = le2"
   ]
  },
  {
   "cell_type": "markdown",
   "id": "cc4f0c20",
   "metadata": {},
   "source": [
    "## PREPARACIÓN DEL MODELO"
   ]
  },
  {
   "cell_type": "markdown",
   "id": "dddb81fb",
   "metadata": {},
   "source": [
    "Separamos los datos en entrenamiento (80%), validacion(10%) y test(10%): "
   ]
  },
  {
   "cell_type": "code",
   "execution_count": 9,
   "id": "f8ed329b",
   "metadata": {},
   "outputs": [],
   "source": [
    "\n",
    "X_train, X_test, y_train, y_test = train_test_split(df[categorical_features + numerical_features], df['CLIN_SIG'], random_state=1)\n",
    "\n",
    "\n",
    "X_test, X_val, y_test, y_val = train_test_split(X_test, y_test, test_size=0.5, random_state=1)\n"
   ]
  },
  {
   "cell_type": "markdown",
   "id": "83928dd5",
   "metadata": {},
   "source": [
    "Definimos la funcion que creara el modelo creando tantas capas emmbeding como caracteristicas tengamos:"
   ]
  },
  {
   "cell_type": "code",
   "execution_count": 10,
   "id": "1354dae5",
   "metadata": {},
   "outputs": [],
   "source": [
    "def create_model():\n",
    "    inputs = []\n",
    "    embeddings = []\n",
    "\n",
    "    for categorical_feature in categorical_features:\n",
    "        _input = Input(shape=(1,))\n",
    "        _embedding = Embedding(input_dim=np.max(df[categorical_feature])+1, output_dim=10)(_input)\n",
    "        _embedding = Flatten()(_embedding)\n",
    "        inputs.append(_input)\n",
    "        embeddings.append(_embedding)\n",
    "\n",
    "    numerical_input = Input(shape=(len(numerical_features),))\n",
    "    inputs.append(numerical_input)\n",
    "    embeddings.append(numerical_input)\n",
    "\n",
    "    x = Concatenate()(embeddings)\n",
    "    x = Dense(1024, activation='relu')(x)\n",
    "    x = Dense(1024, activation='relu')(x)\n",
    "    x = Dense(512, activation='relu')(x)\n",
    "    x = Dense(1024, activation='relu')(x)\n",
    "    x = Dropout(0.4)(x)\n",
    "    output = Dense(4, activation='softmax')(x)\n",
    "\n",
    "    model = Model(inputs, output)\n",
    "\n",
    "    model.compile(loss='sparse_categorical_crossentropy', optimizer='adam', metrics=['accuracy'])\n",
    "\n",
    "    return model\n"
   ]
  },
  {
   "cell_type": "markdown",
   "id": "b365f926",
   "metadata": {},
   "source": [
    "Definimos un earlystopping:"
   ]
  },
  {
   "cell_type": "code",
   "execution_count": 15,
   "id": "d79f735d",
   "metadata": {},
   "outputs": [],
   "source": [
    "early_stopping = EarlyStopping(monitor='val_loss', patience=3, verbose=1, restore_best_weights=True)"
   ]
  },
  {
   "cell_type": "markdown",
   "id": "9f06eca2",
   "metadata": {},
   "source": [
    "Creamos el modelo"
   ]
  },
  {
   "cell_type": "code",
   "execution_count": 16,
   "id": "f18db087",
   "metadata": {},
   "outputs": [],
   "source": [
    "model = create_model()"
   ]
  },
  {
   "cell_type": "code",
   "execution_count": 17,
   "id": "dea4a525",
   "metadata": {},
   "outputs": [
    {
     "name": "stdout",
     "output_type": "stream",
     "text": [
      "Model: \"model_1\"\n",
      "__________________________________________________________________________________________________\n",
      " Layer (type)                   Output Shape         Param #     Connected to                     \n",
      "==================================================================================================\n",
      " input_12 (InputLayer)          [(None, 1)]          0           []                               \n",
      "                                                                                                  \n",
      " input_13 (InputLayer)          [(None, 1)]          0           []                               \n",
      "                                                                                                  \n",
      " input_14 (InputLayer)          [(None, 1)]          0           []                               \n",
      "                                                                                                  \n",
      " input_15 (InputLayer)          [(None, 1)]          0           []                               \n",
      "                                                                                                  \n",
      " input_16 (InputLayer)          [(None, 1)]          0           []                               \n",
      "                                                                                                  \n",
      " input_17 (InputLayer)          [(None, 1)]          0           []                               \n",
      "                                                                                                  \n",
      " input_18 (InputLayer)          [(None, 1)]          0           []                               \n",
      "                                                                                                  \n",
      " input_19 (InputLayer)          [(None, 1)]          0           []                               \n",
      "                                                                                                  \n",
      " input_20 (InputLayer)          [(None, 1)]          0           []                               \n",
      "                                                                                                  \n",
      " input_21 (InputLayer)          [(None, 1)]          0           []                               \n",
      "                                                                                                  \n",
      " embedding_10 (Embedding)       (None, 1, 10)        21450       ['input_12[0][0]']               \n",
      "                                                                                                  \n",
      " embedding_11 (Embedding)       (None, 1, 10)        1070        ['input_13[0][0]']               \n",
      "                                                                                                  \n",
      " embedding_12 (Embedding)       (None, 1, 10)        58640       ['input_14[0][0]']               \n",
      "                                                                                                  \n",
      " embedding_13 (Embedding)       (None, 1, 10)        91750       ['input_15[0][0]']               \n",
      "                                                                                                  \n",
      " embedding_14 (Embedding)       (None, 1, 10)        40          ['input_16[0][0]']               \n",
      "                                                                                                  \n",
      " embedding_15 (Embedding)       (None, 1, 10)        20          ['input_17[0][0]']               \n",
      "                                                                                                  \n",
      " embedding_16 (Embedding)       (None, 1, 10)        120         ['input_18[0][0]']               \n",
      "                                                                                                  \n",
      " embedding_17 (Embedding)       (None, 1, 10)        53680       ['input_19[0][0]']               \n",
      "                                                                                                  \n",
      " embedding_18 (Embedding)       (None, 1, 10)        300         ['input_20[0][0]']               \n",
      "                                                                                                  \n",
      " embedding_19 (Embedding)       (None, 1, 10)        120         ['input_21[0][0]']               \n",
      "                                                                                                  \n",
      " flatten_10 (Flatten)           (None, 10)           0           ['embedding_10[0][0]']           \n",
      "                                                                                                  \n",
      " flatten_11 (Flatten)           (None, 10)           0           ['embedding_11[0][0]']           \n",
      "                                                                                                  \n",
      " flatten_12 (Flatten)           (None, 10)           0           ['embedding_12[0][0]']           \n",
      "                                                                                                  \n",
      " flatten_13 (Flatten)           (None, 10)           0           ['embedding_13[0][0]']           \n",
      "                                                                                                  \n",
      " flatten_14 (Flatten)           (None, 10)           0           ['embedding_14[0][0]']           \n",
      "                                                                                                  \n",
      " flatten_15 (Flatten)           (None, 10)           0           ['embedding_15[0][0]']           \n",
      "                                                                                                  \n",
      " flatten_16 (Flatten)           (None, 10)           0           ['embedding_16[0][0]']           \n",
      "                                                                                                  \n",
      " flatten_17 (Flatten)           (None, 10)           0           ['embedding_17[0][0]']           \n",
      "                                                                                                  \n",
      " flatten_18 (Flatten)           (None, 10)           0           ['embedding_18[0][0]']           \n",
      "                                                                                                  \n",
      " flatten_19 (Flatten)           (None, 10)           0           ['embedding_19[0][0]']           \n",
      "                                                                                                  \n",
      " input_22 (InputLayer)          [(None, 11)]         0           []                               \n",
      "                                                                                                  \n",
      " concatenate_1 (Concatenate)    (None, 111)          0           ['flatten_10[0][0]',             \n",
      "                                                                  'flatten_11[0][0]',             \n",
      "                                                                  'flatten_12[0][0]',             \n",
      "                                                                  'flatten_13[0][0]',             \n",
      "                                                                  'flatten_14[0][0]',             \n",
      "                                                                  'flatten_15[0][0]',             \n",
      "                                                                  'flatten_16[0][0]',             \n",
      "                                                                  'flatten_17[0][0]',             \n",
      "                                                                  'flatten_18[0][0]',             \n",
      "                                                                  'flatten_19[0][0]',             \n",
      "                                                                  'input_22[0][0]']               \n",
      "                                                                                                  \n",
      " dense_5 (Dense)                (None, 1024)         114688      ['concatenate_1[0][0]']          \n",
      "                                                                                                  \n",
      " dense_6 (Dense)                (None, 1024)         1049600     ['dense_5[0][0]']                \n",
      "                                                                                                  \n",
      " dense_7 (Dense)                (None, 512)          524800      ['dense_6[0][0]']                \n",
      "                                                                                                  \n"
     ]
    },
    {
     "name": "stdout",
     "output_type": "stream",
     "text": [
      " dense_8 (Dense)                (None, 1024)         525312      ['dense_7[0][0]']                \n",
      "                                                                                                  \n",
      " dropout_1 (Dropout)            (None, 1024)         0           ['dense_8[0][0]']                \n",
      "                                                                                                  \n",
      " dense_9 (Dense)                (None, 4)            4100        ['dropout_1[0][0]']              \n",
      "                                                                                                  \n",
      "==================================================================================================\n",
      "Total params: 2,445,690\n",
      "Trainable params: 2,445,690\n",
      "Non-trainable params: 0\n",
      "__________________________________________________________________________________________________\n"
     ]
    }
   ],
   "source": [
    "model.summary()"
   ]
  },
  {
   "cell_type": "markdown",
   "id": "ef32e2e6",
   "metadata": {},
   "source": [
    "Entrenamos el modelo:"
   ]
  },
  {
   "cell_type": "code",
   "execution_count": 18,
   "id": "2223607d",
   "metadata": {},
   "outputs": [
    {
     "name": "stdout",
     "output_type": "stream",
     "text": [
      "Epoch 1/50\n",
      "1758/1758 [==============================] - 72s 40ms/step - loss: 0.4638 - accuracy: 0.8051 - val_loss: 0.3747 - val_accuracy: 0.8650\n",
      "Epoch 2/50\n",
      "1758/1758 [==============================] - 74s 42ms/step - loss: 0.2958 - accuracy: 0.8850 - val_loss: 0.2690 - val_accuracy: 0.8978\n",
      "Epoch 3/50\n",
      "1758/1758 [==============================] - 79s 45ms/step - loss: 0.2591 - accuracy: 0.8995 - val_loss: 0.2571 - val_accuracy: 0.8973\n",
      "Epoch 4/50\n",
      "1758/1758 [==============================] - 82s 47ms/step - loss: 0.2385 - accuracy: 0.9084 - val_loss: 0.2265 - val_accuracy: 0.9136\n",
      "Epoch 5/50\n",
      "1758/1758 [==============================] - 80s 46ms/step - loss: 0.2258 - accuracy: 0.9136 - val_loss: 0.2203 - val_accuracy: 0.9167\n",
      "Epoch 6/50\n",
      "1758/1758 [==============================] - 74s 42ms/step - loss: 0.2176 - accuracy: 0.9165 - val_loss: 0.2252 - val_accuracy: 0.9135\n",
      "Epoch 7/50\n",
      "1758/1758 [==============================] - 99s 57ms/step - loss: 0.2135 - accuracy: 0.9179 - val_loss: 0.2127 - val_accuracy: 0.9201\n",
      "Epoch 8/50\n",
      "1758/1758 [==============================] - 74s 42ms/step - loss: 0.2074 - accuracy: 0.9202 - val_loss: 0.2074 - val_accuracy: 0.9206\n",
      "Epoch 9/50\n",
      "1758/1758 [==============================] - 71s 40ms/step - loss: 0.2006 - accuracy: 0.9227 - val_loss: 0.1996 - val_accuracy: 0.9232\n",
      "Epoch 10/50\n",
      "1758/1758 [==============================] - 96s 54ms/step - loss: 0.1944 - accuracy: 0.9247 - val_loss: 0.1948 - val_accuracy: 0.9247\n",
      "Epoch 11/50\n",
      "1758/1758 [==============================] - 76s 43ms/step - loss: 0.1876 - accuracy: 0.9268 - val_loss: 0.1864 - val_accuracy: 0.9260\n",
      "Epoch 12/50\n",
      "1758/1758 [==============================] - 79s 45ms/step - loss: 0.1849 - accuracy: 0.9277 - val_loss: 0.1841 - val_accuracy: 0.9277\n",
      "Epoch 13/50\n",
      "1758/1758 [==============================] - 121s 69ms/step - loss: 0.1797 - accuracy: 0.9293 - val_loss: 0.1912 - val_accuracy: 0.9251\n",
      "Epoch 14/50\n",
      "1758/1758 [==============================] - 63s 36ms/step - loss: 0.1779 - accuracy: 0.9302 - val_loss: 0.1815 - val_accuracy: 0.9288\n",
      "Epoch 15/50\n",
      "1758/1758 [==============================] - 83s 47ms/step - loss: 0.1794 - accuracy: 0.9293 - val_loss: 0.1808 - val_accuracy: 0.9295\n",
      "Epoch 16/50\n",
      "1758/1758 [==============================] - 106s 60ms/step - loss: 0.1733 - accuracy: 0.9318 - val_loss: 0.1902 - val_accuracy: 0.9273\n",
      "Epoch 17/50\n",
      "1758/1758 [==============================] - 67s 38ms/step - loss: 0.1723 - accuracy: 0.9322 - val_loss: 0.1848 - val_accuracy: 0.9290\n",
      "Epoch 18/50\n",
      "1758/1758 [==============================] - 102s 58ms/step - loss: 0.1703 - accuracy: 0.9328 - val_loss: 0.1778 - val_accuracy: 0.9312\n",
      "Epoch 19/50\n",
      "1758/1758 [==============================] - 82s 47ms/step - loss: 0.1681 - accuracy: 0.9338 - val_loss: 0.1766 - val_accuracy: 0.9314\n",
      "Epoch 20/50\n",
      "1758/1758 [==============================] - 85s 48ms/step - loss: 0.1678 - accuracy: 0.9339 - val_loss: 0.1797 - val_accuracy: 0.9309\n",
      "Epoch 21/50\n",
      "1758/1758 [==============================] - 95s 54ms/step - loss: 0.1648 - accuracy: 0.9349 - val_loss: 0.1766 - val_accuracy: 0.9317\n",
      "Epoch 22/50\n",
      "1758/1758 [==============================] - 78s 44ms/step - loss: 0.1650 - accuracy: 0.9348 - val_loss: 0.1758 - val_accuracy: 0.9321\n",
      "Epoch 23/50\n",
      "1758/1758 [==============================] - 103s 58ms/step - loss: 0.1638 - accuracy: 0.9353 - val_loss: 0.1774 - val_accuracy: 0.9322\n",
      "Epoch 24/50\n",
      "1758/1758 [==============================] - 75s 42ms/step - loss: 0.1618 - accuracy: 0.9358 - val_loss: 0.1766 - val_accuracy: 0.9326\n",
      "Epoch 25/50\n",
      "1758/1758 [==============================] - ETA: 0s - loss: 0.1589 - accuracy: 0.9371Restoring model weights from the end of the best epoch: 22.\n",
      "1758/1758 [==============================] - 114s 65ms/step - loss: 0.1589 - accuracy: 0.9371 - val_loss: 0.1767 - val_accuracy: 0.9324\n",
      "Epoch 25: early stopping\n"
     ]
    }
   ],
   "source": [
    "history = model.fit([X_train[feature].values for feature in categorical_features] + [X_train[numerical_features].values], y_train.values, \n",
    "                    validation_data=([X_val[feature].values for feature in categorical_features] + [X_val[numerical_features].values], y_val.values), \n",
    "                    epochs=50, batch_size=512, callbacks=[early_stopping])\n"
   ]
  },
  {
   "cell_type": "markdown",
   "id": "e3f7d16a",
   "metadata": {},
   "source": [
    "Realizamos predicciones con el conjunto de test:"
   ]
  },
  {
   "cell_type": "code",
   "execution_count": 19,
   "id": "71d4b804",
   "metadata": {},
   "outputs": [
    {
     "name": "stdout",
     "output_type": "stream",
     "text": [
      "4688/4688 [==============================] - 15s 3ms/step\n"
     ]
    }
   ],
   "source": [
    "\n",
    "y_pred_probs = model.predict([X_test[feature] for feature in categorical_features] + [X_test[numerical_features]])\n",
    "\n",
    "\n",
    "y_pred = np.argmax(y_pred_probs, axis=1)\n"
   ]
  },
  {
   "cell_type": "markdown",
   "id": "d272b8e4",
   "metadata": {},
   "source": [
    "Guardar Modelo"
   ]
  },
  {
   "cell_type": "code",
   "execution_count": 21,
   "id": "32abec97",
   "metadata": {
    "scrolled": false
   },
   "outputs": [
    {
     "name": "stdout",
     "output_type": "stream",
     "text": [
      "INFO:tensorflow:Assets written to: variant_model_good_2\\assets\n"
     ]
    }
   ],
   "source": [
    "model.save('variant_model_good_2.h5')\n",
    "model.save('variant_model_good_2')"
   ]
  },
  {
   "cell_type": "markdown",
   "id": "2425d4c5",
   "metadata": {},
   "source": [
    "Guardar encoders"
   ]
  },
  {
   "cell_type": "code",
   "execution_count": 7,
   "id": "a90afa09",
   "metadata": {},
   "outputs": [],
   "source": [
    "for feature in categorical_features:\n",
    "    with open(f'{feature}_encoder.pkl', 'wb') as f:\n",
    "        pickle.dump(encoders[feature], f)\n"
   ]
  },
  {
   "cell_type": "code",
   "execution_count": 21,
   "id": "15814d2d",
   "metadata": {},
   "outputs": [],
   "source": [
    "classes = 'CLIN_SIG'\n",
    "with open(f'{classes}_encoder.pkl', 'wb') as f:\n",
    "        pickle.dump(le2, f)"
   ]
  },
  {
   "cell_type": "markdown",
   "id": "6ac32977",
   "metadata": {},
   "source": [
    "Cargar encoders:"
   ]
  },
  {
   "cell_type": "code",
   "execution_count": 48,
   "id": "501203a7",
   "metadata": {},
   "outputs": [],
   "source": [
    "encoders = {}\n",
    "for feature in categorical_features:\n",
    "    with open(f'{feature}_encoder.pkl', 'rb') as f:\n",
    "        encoders[feature] = pickle.load(f)"
   ]
  },
  {
   "cell_type": "code",
   "execution_count": 22,
   "id": "523b4416",
   "metadata": {},
   "outputs": [],
   "source": [
    "with open('CLIN_SIG_encoder.pkl', 'rb') as f:\n",
    "    clin_sig_encoder = pickle.load(f)\n",
    "\n",
    "classes = clin_sig_encoder.classes_"
   ]
  },
  {
   "cell_type": "code",
   "execution_count": 23,
   "id": "70cc35d5",
   "metadata": {},
   "outputs": [
    {
     "data": {
      "text/plain": [
       "array(['benign', 'likely_benign', 'likely_pathogenic', 'pathogenic'],\n",
       "      dtype=object)"
      ]
     },
     "execution_count": 23,
     "metadata": {},
     "output_type": "execute_result"
    }
   ],
   "source": [
    "classes"
   ]
  },
  {
   "cell_type": "markdown",
   "id": "9dea74d3",
   "metadata": {},
   "source": [
    "Sacamos el heatmap:"
   ]
  },
  {
   "cell_type": "code",
   "execution_count": 24,
   "id": "7fe47a04",
   "metadata": {
    "scrolled": false
   },
   "outputs": [
    {
     "data": {
      "image/png": "[encoded data removed]",
      "text/plain": [
       "<Figure size 1000x700 with 2 Axes>"
      ]
     },
     "metadata": {},
     "output_type": "display_data"
    }
   ],
   "source": [
    "\n",
    "cm = confusion_matrix(y_test, y_pred)\n",
    "\n",
    "\n",
    "plt.figure(figsize=(10,7))\n",
    "sns.heatmap(cm, annot=True, fmt='d', xticklabels=classes, yticklabels=classes, linewidths=.6)\n",
    "plt.xlabel('Predicción')\n",
    "plt.ylabel('Real')\n",
    "plt.show()"
   ]
  },
  {
   "cell_type": "markdown",
   "id": "07404d05",
   "metadata": {},
   "source": [
    "Mostramos datos en forma de dataframe y de matriz de confusión:"
   ]
  },
  {
   "cell_type": "code",
   "execution_count": 25,
   "id": "57ebcc59",
   "metadata": {
    "scrolled": true
   },
   "outputs": [
    {
     "name": "stdout",
     "output_type": "stream",
     "text": [
      "                  benign likely_benign likely_pathogenic pathogenic\n",
      "benign             34428          2638               116         40\n",
      "likely_benign       2623         34322               374        148\n",
      "likely_pathogenic     32          1218             34914       1593\n",
      "pathogenic            30           634               611      36279\n"
     ]
    }
   ],
   "source": [
    "df = pd.DataFrame(cm)\n",
    "\n",
    "df.columns = [classes]\n",
    "df.index = [classes]\n",
    "\n",
    "print(df)"
   ]
  },
  {
   "cell_type": "code",
   "execution_count": 26,
   "id": "c0c343d9",
   "metadata": {
    "scrolled": true
   },
   "outputs": [
    {
     "name": "stdout",
     "output_type": "stream",
     "text": [
      "                   precision    recall  f1-score   support\n",
      "\n",
      "           benign       0.93      0.92      0.93     37222\n",
      "    likely_benign       0.88      0.92      0.90     37467\n",
      "likely_pathogenic       0.97      0.92      0.95     37757\n",
      "       pathogenic       0.95      0.97      0.96     37554\n",
      "\n",
      "         accuracy                           0.93    150000\n",
      "        macro avg       0.93      0.93      0.93    150000\n",
      "     weighted avg       0.93      0.93      0.93    150000\n",
      "\n"
     ]
    }
   ],
   "source": [
    "report = classification_report(y_test, y_pred,target_names=classes)\n",
    "\n",
    "print(report)"
   ]
  },
  {
   "cell_type": "markdown",
   "id": "b5d540cf",
   "metadata": {},
   "source": [
    "Mostramos gráficas de entrenamiento:"
   ]
  },
  {
   "cell_type": "code",
   "execution_count": 27,
   "id": "15efaae5",
   "metadata": {},
   "outputs": [
    {
     "data": {
      "image/png": "[encoded data removed]",
      "text/plain": [
       "<Figure size 1200x600 with 2 Axes>"
      ]
     },
     "metadata": {},
     "output_type": "display_data"
    }
   ],
   "source": [
    "\n",
    "plt.figure(figsize=(12, 6))\n",
    "plt.subplot(1, 2, 1)\n",
    "plt.plot(history.history['accuracy'])\n",
    "plt.plot(history.history['val_accuracy'])\n",
    "plt.title('Accuracy del modelo')\n",
    "plt.ylabel('Accuracy')\n",
    "plt.xlabel('Epoch')\n",
    "plt.legend(['Train', 'Validation'], loc='upper left')\n",
    "\n",
    "\n",
    "plt.subplot(1, 2, 2)\n",
    "plt.plot(history.history['loss'])\n",
    "plt.plot(history.history['val_loss'])\n",
    "plt.title('Perdida del modelo')\n",
    "plt.ylabel('Loss')\n",
    "plt.xlabel('Epoch')\n",
    "plt.legend(['Train', 'Validation'], loc='upper left')\n",
    "\n",
    "plt.tight_layout()\n",
    "plt.show()"
   ]
  },
  {
   "cell_type": "markdown",
   "id": "124a896b",
   "metadata": {},
   "source": [
    "### CARGAR MODELO SI ES NECESARIO"
   ]
  },
  {
   "cell_type": "code",
   "execution_count": 6,
   "id": "e8f9f6f2",
   "metadata": {},
   "outputs": [],
   "source": [
    "model = tf.keras.models.load_model('variant_model_good_2')"
   ]
  }
 ],
 "metadata": {
  "kernelspec": {
   "display_name": "Python 3 (ipykernel)",
   "language": "python",
   "name": "python3"
  },
  "language_info": {
   "codemirror_mode": {
    "name": "ipython",
    "version": 3
   },
   "file_extension": ".py",
   "mimetype": "text/x-python",
   "name": "python",
   "nbconvert_exporter": "python",
   "pygments_lexer": "ipython3",
   "version": "3.10.11"
  }
 },
 "nbformat": 4,
 "nbformat_minor": 5
}
