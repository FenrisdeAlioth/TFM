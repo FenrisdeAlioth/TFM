{
 "cells": [
  {
   "cell_type": "code",
   "execution_count": 1,
   "id": "5663d382",
   "metadata": {},
   "outputs": [],
   "source": [
    "import pandas as pd\n",
    "import numpy as np"
   ]
  },
  {
   "cell_type": "markdown",
   "id": "07606e66",
   "metadata": {},
   "source": [
    "Funcion para quitar dejar en nuestro archivo solo los valores sin / y sin ; de nuestro clasificador"
   ]
  },
  {
   "cell_type": "code",
   "execution_count": 3,
   "id": "bdc61d58",
   "metadata": {},
   "outputs": [],
   "source": [
    "def filtro_df(df):\n",
    "    #filtramos las barras\n",
    "    filtro_barra = ~df['CLIN_SIG'].str.contains('/')\n",
    "    df= df.loc[filtro_barra]\n",
    "    #filtramos los ;\n",
    "    filtro_puntocoma = ~df['CLIN_SIG'].str.contains(';')\n",
    "    df= df.loc[filtro_puntocoma]\n",
    "    #reseteamos el indice\n",
    "    df.reset_index()\n",
    "    \n",
    "    return df"
   ]
  },
  {
   "cell_type": "markdown",
   "id": "38810bab",
   "metadata": {},
   "source": [
    "Funcion para coger \"x\" lineas de cada categoría para el df final"
   ]
  },
  {
   "cell_type": "code",
   "execution_count": 1,
   "id": "f429aebc",
   "metadata": {},
   "outputs": [],
   "source": [
    "def sample_rows_per_category(dataframe, category_column, n_rows):\n",
    "    # Group by the category column and sample n_rows from each category\n",
    "    return dataframe.groupby(category_column).apply(lambda x: x.sample(n=n_rows)).reset_index(drop=True)"
   ]
  },
  {
   "cell_type": "markdown",
   "id": "8552e891",
   "metadata": {},
   "source": [
    "Cargamos el archivo vcf"
   ]
  },
  {
   "cell_type": "code",
   "execution_count": 5,
   "id": "eca001b0",
   "metadata": {},
   "outputs": [],
   "source": [
    "colnames = ['Uploaded_variation','Location','Allele','Gene','Feature','Feature_type','Consequence','cDNA_position'\n",
    ",'CDS_position','Protein_position','Amino_acids','Codons','Existing_variation','IMPACT','DISTANCE','STRAND','FLAGS','BIOTYPE',\n",
    "            'CANONICAL','REFSEQ_MATCH','SOURCE','REFSEQ_OFFSET','GIVEN_REF','USED_REF','BAM_EDIT','SIFT','PolyPhen','AF',\n",
    "            'gnomADg_AF','gnomADg_AFR_AF','gnomADg_AMI_AF','gnomADg_AMR_AF','gnomADg_ASJ_AF','gnomADg_EAS_AF',\n",
    "            'gnomADg_FIN_AF','gnomADg_MID_AF','gnomADg_NFE_AF','gnomADg_OTH_AF','gnomADg_SAS_AF','CLIN_SIG','SOMATIC','PHENO']"
   ]
  },
  {
   "cell_type": "code",
   "execution_count": 6,
   "id": "dbe74c3d",
   "metadata": {},
   "outputs": [],
   "source": [
    "df = pd.read_csv(f'clin_an_2_rs.vcf', sep='\\t', comment='#', names=colnames, header=None, index_col=False)"
   ]
  },
  {
   "cell_type": "code",
   "execution_count": 7,
   "id": "347988d0",
   "metadata": {},
   "outputs": [],
   "source": [
    "palabras_clave = ['likely_benign', 'benign', 'pathogenic', 'likely_pathogenic']"
   ]
  },
  {
   "cell_type": "markdown",
   "id": "3669b08a",
   "metadata": {},
   "source": [
    "Creamos un filtro que nos coge solo nuestros clasificadores clave y que no tienen una , en el texto y lo aplicamos"
   ]
  },
  {
   "cell_type": "code",
   "execution_count": 8,
   "id": "8e473f53",
   "metadata": {},
   "outputs": [],
   "source": [
    "filtro_clin_sig = df['CLIN_SIG'].str.contains('|'.join([rf'\\b{palabra}\\b' for palabra in palabras_clave]), regex=True)& (~df['CLIN_SIG'].str.contains(','))"
   ]
  },
  {
   "cell_type": "code",
   "execution_count": 9,
   "id": "501e721c",
   "metadata": {},
   "outputs": [],
   "source": [
    "df_filtrado= df.loc[filtro_clin_sig]"
   ]
  },
  {
   "cell_type": "code",
   "execution_count": 10,
   "id": "263283a7",
   "metadata": {},
   "outputs": [],
   "source": [
    "df_filtrado = filtro_df(df_filtrado)"
   ]
  },
  {
   "cell_type": "markdown",
   "id": "345d766c",
   "metadata": {},
   "source": [
    "Creams ua copia de nuestro df para dejar intacto el original"
   ]
  },
  {
   "cell_type": "code",
   "execution_count": 13,
   "id": "f944cd81",
   "metadata": {},
   "outputs": [],
   "source": [
    "df_filtrado_canonico = df_filtrado.copy()"
   ]
  },
  {
   "cell_type": "markdown",
   "id": "c1d8f2fb",
   "metadata": {},
   "source": [
    "Filtramos por la categoría de frecuencia alelica que no sea un \"-\""
   ]
  },
  {
   "cell_type": "code",
   "execution_count": 29,
   "id": "764bff2f",
   "metadata": {},
   "outputs": [],
   "source": [
    "df_filtrado_canonico = df_filtrado_canonico[df_filtrado_canonico['gnomADg_AF']!='-']"
   ]
  },
  {
   "cell_type": "code",
   "execution_count": 20,
   "id": "4110dc3a",
   "metadata": {},
   "outputs": [
    {
     "data": {
      "text/plain": [
       "likely_benign        3590254\n",
       "benign               1785174\n",
       "pathogenic            700185\n",
       "likely_pathogenic     349096\n",
       "Name: CLIN_SIG, dtype: int64"
      ]
     },
     "execution_count": 20,
     "metadata": {},
     "output_type": "execute_result"
    }
   ],
   "source": [
    "df_filtrado_canonico['CLIN_SIG'].value_counts()"
   ]
  },
  {
   "cell_type": "markdown",
   "id": "3fe3a022",
   "metadata": {},
   "source": [
    "Quitamos las columnas sobrantes "
   ]
  },
  {
   "cell_type": "code",
   "execution_count": 15,
   "id": "067fa816",
   "metadata": {},
   "outputs": [],
   "source": [
    "columns_to_drop = ['Uploaded_variation','Location','cDNA_position','CDS_position','Protein_position','Gene','Feature','Feature_type',\n",
    "                   'Existing_variation','DISTANCE','STRAND','CANONICAL','REFSEQ_MATCH',\n",
    "                   'SOURCE', 'REFSEQ_OFFSET','GIVEN_REF','BAM_EDIT','PolyPhen','SIFT','AF']\n",
    "# columns_to_drop = ['Uploaded_variation','Location','cDNA_position','CDS_position','Protein_position','Gene','Feature','Feature_type',\n",
    "#                    'Existing_variation','DISTANCE','STRAND','CANONICAL','REFSEQ_MATCH',\n",
    "#                    'SOURCE', 'REFSEQ_OFFSET','GIVEN_REF','BAM_EDIT','SIFT','AF']"
   ]
  },
  {
   "cell_type": "code",
   "execution_count": 16,
   "id": "1c16369e",
   "metadata": {},
   "outputs": [],
   "source": [
    "df_filtrado_canonico = df_filtrado_canonico.drop(columns=columns_to_drop)"
   ]
  },
  {
   "cell_type": "markdown",
   "id": "8721b788",
   "metadata": {},
   "source": [
    "Convertimos las columnas con datos numericos en numeros, primero remplazamos los - de los valores faltantes por nan y luego las convertimos a número."
   ]
  },
  {
   "cell_type": "code",
   "execution_count": 17,
   "id": "eac41afe",
   "metadata": {},
   "outputs": [],
   "source": [
    "columns_to_convert  = ['gnomADg_AF','gnomADg_AFR_AF','gnomADg_AMI_AF','gnomADg_AMR_AF','gnomADg_ASJ_AF','gnomADg_EAS_AF',\n",
    "            'gnomADg_FIN_AF','gnomADg_MID_AF','gnomADg_NFE_AF','gnomADg_OTH_AF','gnomADg_SAS_AF']"
   ]
  },
  {
   "cell_type": "code",
   "execution_count": 18,
   "id": "fc947bc4",
   "metadata": {},
   "outputs": [],
   "source": [
    " df_filtrado_canonico[columns_to_convert] = df_filtrado_canonico[columns_to_convert].replace('-', np.nan)"
   ]
  },
  {
   "cell_type": "code",
   "execution_count": 19,
   "id": "2f77268f",
   "metadata": {},
   "outputs": [],
   "source": [
    "df_filtrado_canonico[columns_to_convert] = df_filtrado_canonico[columns_to_convert].apply(pd.to_numeric)"
   ]
  },
  {
   "cell_type": "markdown",
   "id": "d402747c",
   "metadata": {},
   "source": [
    "Para los valores faltantes calculamos la media de los datos de freccuencias de sus filas"
   ]
  },
  {
   "cell_type": "code",
   "execution_count": 31,
   "id": "40d70b23",
   "metadata": {},
   "outputs": [],
   "source": [
    "for c in columns_to_convert:\n",
    "    columnas_para_media = [col for col in columns_to_convert if col not in [c]]\n",
    "\n",
    "    media = df_filtrado_canonico[columnas_para_media].mean(axis=1)  # Calcula la media de las columnas excepto 'gnomADg_AF'\n",
    "\n",
    "    df_filtrado_canonico[c].fillna(media, inplace=True)"
   ]
  },
  {
   "cell_type": "markdown",
   "id": "e47dc805",
   "metadata": {},
   "source": [
    "Muestreamos y mezclamos los datos del df"
   ]
  },
  {
   "cell_type": "code",
   "execution_count": 36,
   "id": "f1c5b0d7",
   "metadata": {},
   "outputs": [],
   "source": [
    "\n",
    "sampled_df = sample_rows_per_category(df_filtrado_canonico, 'CLIN_SIG', 300000)"
   ]
  },
  {
   "cell_type": "code",
   "execution_count": 37,
   "id": "f6bc1408",
   "metadata": {},
   "outputs": [],
   "source": [
    "shuffled_df = sampled_df.sample(frac=1).reset_index(drop=True)"
   ]
  },
  {
   "cell_type": "code",
   "execution_count": 39,
   "id": "3c728f30",
   "metadata": {},
   "outputs": [],
   "source": [
    "shuffled_df.to_csv('df_filtrado_22.csv', sep = '\\t',index=False)"
   ]
  }
 ],
 "metadata": {
  "kernelspec": {
   "display_name": "Python 3 (ipykernel)",
   "language": "python",
   "name": "python3"
  },
  "language_info": {
   "codemirror_mode": {
    "name": "ipython",
    "version": 3
   },
   "file_extension": ".py",
   "mimetype": "text/x-python",
   "name": "python",
   "nbconvert_exporter": "python",
   "pygments_lexer": "ipython3",
   "version": "3.10.11"
  }
 },
 "nbformat": 4,
 "nbformat_minor": 5
}
